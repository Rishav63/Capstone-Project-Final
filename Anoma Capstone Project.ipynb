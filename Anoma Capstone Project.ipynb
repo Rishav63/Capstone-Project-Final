{
 "cells": [
  {
   "cell_type": "code",
   "execution_count": 1,
   "id": "62bcaa52",
   "metadata": {},
   "outputs": [],
   "source": [
    "import pandas as pd\n",
    "import numpy as np\n",
    "import matplotlib.pyplot as plt\n",
    "import seaborn as sns"
   ]
  },
  {
   "cell_type": "markdown",
   "id": "88280ec0",
   "metadata": {},
   "source": [
    "## Loading the dataset"
   ]
  },
  {
   "cell_type": "code",
   "execution_count": 35,
   "id": "720da533",
   "metadata": {},
   "outputs": [],
   "source": [
    "data=pd.read_csv('Anomadata.csv')"
   ]
  },
  {
   "cell_type": "code",
   "execution_count": 36,
   "id": "2f5c69bc",
   "metadata": {},
   "outputs": [
    {
     "name": "stdout",
     "output_type": "stream",
     "text": [
      "                time  y        x1        x2        x3          x4        x5  \\\n",
      "0        5 1 99 0:00  0  0.376665 -4.596435 -4.095756   13.497687 -0.118830   \n",
      "1        5 1 99 0:02  0  0.475720 -4.542502 -4.018359   16.230659 -0.128733   \n",
      "2        5 1 99 0:04  0  0.363848 -4.681394 -4.353147   14.127997 -0.138636   \n",
      "3        5 1 99 0:06  0  0.301590 -4.758934 -4.023612   13.161566 -0.148142   \n",
      "4        5 1 99 0:08  0  0.265578 -4.749928 -4.333150   15.267340 -0.155314   \n",
      "...              ... ..       ...       ...       ...         ...       ...   \n",
      "18393  5 28 99 23:58  0 -0.877441  0.786430  0.406426  135.301215  0.112295   \n",
      "18394   5 29 99 0:00  0 -0.843988  0.633086  0.561918  133.228949  0.141332   \n",
      "18395   5 29 99 0:02  0 -0.826547  0.450126  0.334582  134.977973  0.170370   \n",
      "18396   5 29 99 0:04  0 -0.822843  0.419383  0.387263  135.658942  0.199422   \n",
      "18397   5 29 99 0:06  0 -0.840981  0.582710  0.593416  136.339880  0.228460   \n",
      "\n",
      "              x6        x7        x8  ...        x51        x52       x54  \\\n",
      "0     -20.669883  0.000732 -0.061114  ...  29.984624  10.091721 -4.936434   \n",
      "1     -18.758079  0.000732 -0.061114  ...  29.984624  10.095871 -4.937179   \n",
      "2     -17.836632  0.010803 -0.061114  ...  29.984624  10.100265 -4.937924   \n",
      "3     -18.517601  0.002075 -0.061114  ...  29.984624  10.104660 -4.938669   \n",
      "4     -17.505913  0.000732 -0.061114  ...  29.984624  10.109054 -4.939414   \n",
      "...          ...       ...       ...  ...        ...        ...       ...   \n",
      "18393  26.300392 -0.159185  0.058823  ...  29.984624  -0.773514  2.682413   \n",
      "18394  25.678597 -0.159185  0.058823  ...  29.984624  -0.773514  2.683338   \n",
      "18395  25.056801 -0.159185  0.048752  ...  29.984624  -0.773514  2.684263   \n",
      "18396  24.435005 -0.159185  0.048752  ...  29.984624  -0.773514  2.685189   \n",
      "18397  24.712960 -0.159185  0.048752  ...  29.984624  -0.773514  2.686114   \n",
      "\n",
      "             x55        x56       x57       x58       x59       x60  y.1  \n",
      "0     -24.590146  18.515436  3.473400  0.033444  0.953219  0.006076    0  \n",
      "1     -32.413266  22.760065  2.682933  0.033536  1.090502  0.006083    0  \n",
      "2     -34.183774  27.004663  3.537487  0.033629  1.840540  0.006090    0  \n",
      "3     -35.954281  21.672449  3.986095  0.033721  2.554880  0.006097    0  \n",
      "4     -37.724789  21.907251  3.601573  0.033777  1.410494  0.006105    0  \n",
      "...          ...        ...       ...       ...       ...       ...  ...  \n",
      "18393   6.944644 -37.795661 -0.860218  0.010220  0.895685 -0.011242    0  \n",
      "18394   0.507755 -39.357199 -0.915698  0.010620  0.175348 -0.011235    0  \n",
      "18395   2.809146 -39.357199 -1.409596  0.013323  0.621020 -0.011228    0  \n",
      "18396   2.164859 -39.357199 -0.860218  0.012888  1.390902 -0.011221    0  \n",
      "18397   1.416690 -39.357199 -0.732044  0.012453  0.418993 -0.011214    0  \n",
      "\n",
      "[18398 rows x 62 columns]\n"
     ]
    }
   ],
   "source": [
    "print(data)"
   ]
  },
  {
   "cell_type": "code",
   "execution_count": 37,
   "id": "300f4e15",
   "metadata": {},
   "outputs": [
    {
     "name": "stdout",
     "output_type": "stream",
     "text": [
      "          time  y        x1        x2        x3         x4        x5  \\\n",
      "0  5 1 99 0:00  0  0.376665 -4.596435 -4.095756  13.497687 -0.118830   \n",
      "1  5 1 99 0:02  0  0.475720 -4.542502 -4.018359  16.230659 -0.128733   \n",
      "2  5 1 99 0:04  0  0.363848 -4.681394 -4.353147  14.127997 -0.138636   \n",
      "3  5 1 99 0:06  0  0.301590 -4.758934 -4.023612  13.161566 -0.148142   \n",
      "4  5 1 99 0:08  0  0.265578 -4.749928 -4.333150  15.267340 -0.155314   \n",
      "\n",
      "          x6        x7        x8  ...        x51        x52       x54  \\\n",
      "0 -20.669883  0.000732 -0.061114  ...  29.984624  10.091721 -4.936434   \n",
      "1 -18.758079  0.000732 -0.061114  ...  29.984624  10.095871 -4.937179   \n",
      "2 -17.836632  0.010803 -0.061114  ...  29.984624  10.100265 -4.937924   \n",
      "3 -18.517601  0.002075 -0.061114  ...  29.984624  10.104660 -4.938669   \n",
      "4 -17.505913  0.000732 -0.061114  ...  29.984624  10.109054 -4.939414   \n",
      "\n",
      "         x55        x56       x57       x58       x59       x60  y.1  \n",
      "0 -24.590146  18.515436  3.473400  0.033444  0.953219  0.006076    0  \n",
      "1 -32.413266  22.760065  2.682933  0.033536  1.090502  0.006083    0  \n",
      "2 -34.183774  27.004663  3.537487  0.033629  1.840540  0.006090    0  \n",
      "3 -35.954281  21.672449  3.986095  0.033721  2.554880  0.006097    0  \n",
      "4 -37.724789  21.907251  3.601573  0.033777  1.410494  0.006105    0  \n",
      "\n",
      "[5 rows x 62 columns]\n"
     ]
    }
   ],
   "source": [
    "#Display the first few rows of the DataFrame\n",
    "\n",
    "print(data.head())"
   ]
  },
  {
   "cell_type": "code",
   "execution_count": 38,
   "id": "00ef79a8",
   "metadata": {},
   "outputs": [
    {
     "name": "stdout",
     "output_type": "stream",
     "text": [
      "time     object\n",
      "y         int64\n",
      "x1      float64\n",
      "x2      float64\n",
      "x3      float64\n",
      "         ...   \n",
      "x57     float64\n",
      "x58     float64\n",
      "x59     float64\n",
      "x60     float64\n",
      "y.1       int64\n",
      "Length: 62, dtype: object\n"
     ]
    }
   ],
   "source": [
    "#Check Datatypes of each columns\n",
    "print(data.dtypes)"
   ]
  },
  {
   "cell_type": "code",
   "execution_count": 41,
   "id": "4a322cad",
   "metadata": {},
   "outputs": [],
   "source": [
    "#converting Date column into datetime type\n",
    "data['time'] = pd.to_datetime(data['time'], format='%d %m %y %H:%M')\n",
    "data['time'] = data['time'].dt.strftime('%d-%m-%Y %H:%M')\n"
   ]
  },
  {
   "cell_type": "code",
   "execution_count": 9,
   "id": "86ff9325",
   "metadata": {},
   "outputs": [
    {
     "name": "stdout",
     "output_type": "stream",
     "text": [
      "time    datetime64[ns]\n",
      "y                int64\n",
      "x1             float64\n",
      "x2             float64\n",
      "x3             float64\n",
      "             ...      \n",
      "x57            float64\n",
      "x58            float64\n",
      "x59            float64\n",
      "x60            float64\n",
      "y.1              int64\n",
      "Length: 62, dtype: object\n"
     ]
    }
   ],
   "source": [
    "print(data.dtypes)"
   ]
  },
  {
   "cell_type": "markdown",
   "id": "dca459ac",
   "metadata": {},
   "source": [
    "## Performing EDA (Exploratory Data Analysis)\n"
   ]
  },
  {
   "cell_type": "code",
   "execution_count": 86,
   "id": "5cadb402",
   "metadata": {},
   "outputs": [
    {
     "name": "stdout",
     "output_type": "stream",
     "text": [
      "<class 'pandas.core.frame.DataFrame'>\n",
      "RangeIndex: 18398 entries, 0 to 18397\n",
      "Data columns (total 62 columns):\n",
      " #   Column  Non-Null Count  Dtype  \n",
      "---  ------  --------------  -----  \n",
      " 0   time    18398 non-null  object \n",
      " 1   y       18398 non-null  int64  \n",
      " 2   x1      18398 non-null  float64\n",
      " 3   x2      18398 non-null  float64\n",
      " 4   x3      18398 non-null  float64\n",
      " 5   x4      18398 non-null  float64\n",
      " 6   x5      18398 non-null  float64\n",
      " 7   x6      18398 non-null  float64\n",
      " 8   x7      18398 non-null  float64\n",
      " 9   x8      18398 non-null  float64\n",
      " 10  x9      18398 non-null  float64\n",
      " 11  x10     18398 non-null  float64\n",
      " 12  x11     18398 non-null  float64\n",
      " 13  x12     18398 non-null  float64\n",
      " 14  x13     18398 non-null  float64\n",
      " 15  x14     18398 non-null  float64\n",
      " 16  x15     18398 non-null  float64\n",
      " 17  x16     18398 non-null  float64\n",
      " 18  x17     18398 non-null  float64\n",
      " 19  x18     18398 non-null  float64\n",
      " 20  x19     18398 non-null  float64\n",
      " 21  x20     18398 non-null  float64\n",
      " 22  x21     18398 non-null  float64\n",
      " 23  x22     18398 non-null  float64\n",
      " 24  x23     18398 non-null  float64\n",
      " 25  x24     18398 non-null  float64\n",
      " 26  x25     18398 non-null  float64\n",
      " 27  x26     18398 non-null  float64\n",
      " 28  x27     18398 non-null  float64\n",
      " 29  x28     18398 non-null  int64  \n",
      " 30  x29     18398 non-null  float64\n",
      " 31  x30     18398 non-null  float64\n",
      " 32  x31     18398 non-null  float64\n",
      " 33  x32     18398 non-null  float64\n",
      " 34  x33     18398 non-null  float64\n",
      " 35  x34     18398 non-null  float64\n",
      " 36  x35     18398 non-null  float64\n",
      " 37  x36     18398 non-null  float64\n",
      " 38  x37     18398 non-null  float64\n",
      " 39  x38     18398 non-null  float64\n",
      " 40  x39     18398 non-null  float64\n",
      " 41  x40     18398 non-null  float64\n",
      " 42  x41     18398 non-null  float64\n",
      " 43  x42     18398 non-null  float64\n",
      " 44  x43     18398 non-null  float64\n",
      " 45  x44     18398 non-null  float64\n",
      " 46  x45     18398 non-null  float64\n",
      " 47  x46     18398 non-null  float64\n",
      " 48  x47     18398 non-null  float64\n",
      " 49  x48     18398 non-null  float64\n",
      " 50  x49     18398 non-null  float64\n",
      " 51  x50     18398 non-null  float64\n",
      " 52  x51     18398 non-null  float64\n",
      " 53  x52     18398 non-null  float64\n",
      " 54  x54     18398 non-null  float64\n",
      " 55  x55     18398 non-null  float64\n",
      " 56  x56     18398 non-null  float64\n",
      " 57  x57     18398 non-null  float64\n",
      " 58  x58     18398 non-null  float64\n",
      " 59  x59     18398 non-null  float64\n",
      " 60  x60     18398 non-null  float64\n",
      " 61  y.1     18398 non-null  int64  \n",
      "dtypes: float64(58), int64(3), object(1)\n",
      "memory usage: 8.7+ MB\n",
      "None\n",
      "                  y            x1            x2            x3            x4  \\\n",
      "count  18398.000000  18398.000000  18398.000000  18398.000000  18398.000000   \n",
      "mean       0.006740      0.011824      0.157986      0.569300     -9.958345   \n",
      "std        0.081822      0.742875      4.939762      5.937178    131.033712   \n",
      "min        0.000000     -3.787279    -17.316550    -18.198509   -322.781610   \n",
      "25%        0.000000     -0.405681     -2.158235     -3.537054   -111.378372   \n",
      "50%        0.000000      0.128245     -0.075505     -0.190683    -14.881585   \n",
      "75%        0.000000      0.421222      2.319297      3.421223     92.199134   \n",
      "max        1.000000      3.054156     16.742105     15.900116    334.694098   \n",
      "\n",
      "                 x5            x6            x7            x8            x9  \\\n",
      "count  18398.000000  18398.000000  18398.000000  18398.000000  18398.000000   \n",
      "mean       0.006518      2.387533      0.001647     -0.004125     -0.003056   \n",
      "std        0.634054     37.104012      0.108870      0.075460      0.156047   \n",
      "min       -1.623988   -279.408440     -0.429273     -0.451141     -0.120087   \n",
      "25%       -0.446787    -24.345268     -0.058520     -0.051043     -0.059966   \n",
      "50%       -0.120745     10.528435     -0.009338     -0.000993     -0.030057   \n",
      "75%        0.325152     32.172974      0.060515      0.038986      0.001990   \n",
      "max        4.239385     96.060768      1.705590      0.788826      4.060033   \n",
      "\n",
      "       ...           x51           x52           x54           x55  \\\n",
      "count  ...  18398.000000  18398.000000  18398.000000  18398.000000   \n",
      "mean   ...     -3.357339      0.380519      0.173708      2.379154   \n",
      "std    ...    348.256716      6.211598      3.029516     67.940694   \n",
      "min    ...  -3652.989000   -187.943440     -8.210370   -230.574030   \n",
      "25%    ...     29.984624     -3.672684      0.487780    -40.050046   \n",
      "50%    ...     29.984624      0.294846      0.702299     17.471317   \n",
      "75%    ...     29.984624      5.109543      2.675751     44.093387   \n",
      "max    ...     40.152348     14.180588      6.637265    287.252017   \n",
      "\n",
      "                x56           x57           x58           x59           x60  \\\n",
      "count  18398.000000  18398.000000  18398.000000  18398.000000  18398.000000   \n",
      "mean       9.234953      0.233493     -0.001861     -0.061522      0.001258   \n",
      "std       81.274103      2.326838      0.048732     10.394085      0.004721   \n",
      "min     -269.039500    -12.640370     -0.149790   -100.810500     -0.012229   \n",
      "25%      -45.519149     -1.598804      0.000470      0.295023     -0.001805   \n",
      "50%        1.438806      0.085826      0.012888      0.734591      0.000710   \n",
      "75%       63.209681      2.222118      0.020991      1.266506      0.004087   \n",
      "max      252.147455      6.922008      0.067249      6.985460      0.020510   \n",
      "\n",
      "                y.1  \n",
      "count  18398.000000  \n",
      "mean       0.001033  \n",
      "std        0.032120  \n",
      "min        0.000000  \n",
      "25%        0.000000  \n",
      "50%        0.000000  \n",
      "75%        0.000000  \n",
      "max        1.000000  \n",
      "\n",
      "[8 rows x 61 columns]\n"
     ]
    }
   ],
   "source": [
    "# Data quality check\n",
    "print(data.info())\n",
    "print(data.describe())"
   ]
  },
  {
   "cell_type": "code",
   "execution_count": 11,
   "id": "915c829b",
   "metadata": {},
   "outputs": [
    {
     "name": "stdout",
     "output_type": "stream",
     "text": [
      "time    0\n",
      "y       0\n",
      "x1      0\n",
      "x2      0\n",
      "x3      0\n",
      "       ..\n",
      "x57     0\n",
      "x58     0\n",
      "x59     0\n",
      "x60     0\n",
      "y.1     0\n",
      "Length: 62, dtype: int64\n"
     ]
    }
   ],
   "source": [
    "#checking for missing values\n",
    "missing_values= data.isnull().sum()\n",
    "\n",
    "print(missing_values)"
   ]
  },
  {
   "cell_type": "code",
   "execution_count": 13,
   "id": "31414e32",
   "metadata": {},
   "outputs": [],
   "source": [
    "#Drop rows with missing values\n",
    "data.dropna(inplace=True)"
   ]
  },
  {
   "cell_type": "code",
   "execution_count": 91,
   "id": "257816a1",
   "metadata": {},
   "outputs": [],
   "source": [
    "# Treat outliers using z-score method\n",
    "def treat_outliers_zscore(data, threshold=3):\n",
    "    z_scores = np.abs((data - data.mean()) / data.std())\n",
    "    data_filtered = data[z_scores < threshold]\n",
    "    return data_filtered"
   ]
  },
  {
   "cell_type": "code",
   "execution_count": 92,
   "id": "e9e04e47",
   "metadata": {},
   "outputs": [],
   "source": [
    "# Visualize the data before and after treating outliers\n",
    "def visualize_data(data, title):\n",
    "    plt.figure(figsize=(12, 6))\n",
    "    sns.histplot(data=data, kde=True)\n",
    "    plt.title(title)\n",
    "    plt.show()"
   ]
  },
  {
   "cell_type": "code",
   "execution_count": 94,
   "id": "e3388a94",
   "metadata": {},
   "outputs": [
    {
     "data": {
      "image/png": "[encoded data removed]",
      "text/plain": [
       "<Figure size 1200x600 with 1 Axes>"
      ]
     },
     "metadata": {},
     "output_type": "display_data"
    }
   ],
   "source": [
    "# Visualize the target variable before outlier treatment\n",
    "visualize_data(data['y'], title='Before Outlier Treatment')"
   ]
  },
  {
   "cell_type": "code",
   "execution_count": 95,
   "id": "b2b4a4ef",
   "metadata": {},
   "outputs": [],
   "source": [
    "# Treat outliers using z-score method\n",
    "data_filtered_zscore = treat_outliers_zscore(data['y'])"
   ]
  },
  {
   "cell_type": "code",
   "execution_count": 96,
   "id": "01a35305",
   "metadata": {},
   "outputs": [
    {
     "data": {
      "image/png": "[encoded data removed]",
      "text/plain": [
       "<Figure size 1200x600 with 1 Axes>"
      ]
     },
     "metadata": {},
     "output_type": "display_data"
    }
   ],
   "source": [
    "# Visualize the target variable after outlier treatment\n",
    "visualize_data(data_filtered_zscore, title='After Outlier Treatment (Z-score Method)')"
   ]
  },
  {
   "cell_type": "code",
   "execution_count": 17,
   "id": "60d73d7d",
   "metadata": {},
   "outputs": [],
   "source": [
    "# Applying Standardization \n",
    "def standardize(data):\n",
    "    data_std = data.copy()\n",
    "    for column in data_std.columns:\n",
    "        data_std[column] = (data_std[column] - data_std[column].mean()) / data_std[column].std()\n",
    "    return data_std\n",
    "data_scaled = standardize(data.drop('y', axis=1))\n"
   ]
  },
  {
   "cell_type": "code",
   "execution_count": 42,
   "id": "c5441776",
   "metadata": {},
   "outputs": [
    {
     "name": "stdout",
     "output_type": "stream",
     "text": [
      "           time        x1        x2        x3        x4        x5        x6  \\\n",
      "809   -1.725737 -1.168794 -1.870937  0.907784  1.863923 -0.390178 -0.309426   \n",
      "814   -1.724913 -1.374962 -1.779728  1.011526  1.863924 -0.243974 -0.359123   \n",
      "916   -1.707940 -1.451187 -0.548294  1.431607  2.212919 -0.705477  0.274697   \n",
      "920   -1.707281 -1.643078 -0.705038  1.504252  2.338666 -0.830227  0.494798   \n",
      "924   -1.706622 -1.544513 -0.647594  1.509732 -3.124837 -0.866287  0.705307   \n",
      "...         ...       ...       ...       ...       ...       ...       ...   \n",
      "18393  1.450140 -1.764491 -0.352113  0.181496  1.940117 -0.254152  0.534199   \n",
      "18394  1.450305 -1.697216 -0.407866  0.220562  1.917204 -0.210721  0.516184   \n",
      "18395  1.450470 -1.662146 -0.474388  0.163446  1.936543 -0.167288  0.498170   \n",
      "18396  1.450634 -1.654695 -0.485565  0.176682  1.944072 -0.123834  0.480155   \n",
      "18397  1.450799 -1.691170 -0.426182  0.228476  1.951601 -0.080401  0.488208   \n",
      "\n",
      "             x7        x8        x9  ...       x51       x52       x54  \\\n",
      "809    1.039963 -0.448667  0.289641  ...  0.012046 -0.025388  0.934380   \n",
      "814    1.010765 -0.568382 -0.503378  ...  0.012046 -0.053212  0.927444   \n",
      "916    1.010765 -0.203533 -0.503378  ...  0.012046 -0.380619  1.017246   \n",
      "920    0.873742 -0.203533 -0.503378  ...  0.012046 -0.380619  1.016931   \n",
      "924    0.192773 -0.385957  2.068322  ...  0.012046 -0.380619  1.016615   \n",
      "...         ...       ...       ...  ...       ...       ...       ...   \n",
      "18393 -1.845997  0.879966 -1.078732  ...  0.012046  0.009151  0.988580   \n",
      "18394 -1.845997  0.879966 -1.078732  ...  0.012046  0.009151  0.989407   \n",
      "18395 -1.845997  0.697541 -1.078732  ...  0.012046  0.009151  0.990235   \n",
      "18396 -1.845997  0.697541 -1.078732  ...  0.012046  0.009151  0.991063   \n",
      "18397 -1.845997  0.697541 -0.791055  ...  0.012046  0.009151  0.991891   \n",
      "\n",
      "            x55       x56       x57       x58       x59       x60  y.1  \n",
      "809   -1.204386 -1.066160 -0.325362  0.468370  3.691693  1.470248  NaN  \n",
      "814   -1.332812 -1.125553  0.572012  0.343216  3.702425  1.463443  NaN  \n",
      "916   -1.448065 -0.840594 -0.182898  0.256252  3.639152  1.322290  NaN  \n",
      "920   -1.315163 -0.902559 -0.040462  0.153598  3.513864  1.316652  NaN  \n",
      "924   -1.472692 -0.771615 -0.294026  0.128434  3.166095  1.311208  NaN  \n",
      "...         ...       ...       ...       ...       ...       ...  ...  \n",
      "18393 -0.519524 -0.603254 -0.040462 -0.145853  0.308935 -2.256884  NaN  \n",
      "18394 -0.741318 -0.625896 -0.066356 -0.116249 -1.174527 -2.255523  NaN  \n",
      "18395 -0.662020 -0.625896 -0.296875  0.083805 -0.256710 -2.254162  NaN  \n",
      "18396 -0.684220 -0.625896 -0.040462  0.051610  1.328785 -2.252802  NaN  \n",
      "18397 -0.709999 -0.625896  0.019361  0.019415 -0.672764 -2.251441  NaN  \n",
      "\n",
      "[2347 rows x 61 columns]\n"
     ]
    }
   ],
   "source": [
    "print(data_scaled)"
   ]
  },
  {
   "cell_type": "code",
   "execution_count": 19,
   "id": "1bdbf6c1",
   "metadata": {},
   "outputs": [],
   "source": [
    "# Concatenate scaled features with target column\n",
    "cleaned_data = pd.concat([data_scaled, data['y']], axis=1)"
   ]
  },
  {
   "cell_type": "code",
   "execution_count": 20,
   "id": "8c8b1fe2",
   "metadata": {},
   "outputs": [
    {
     "name": "stdout",
     "output_type": "stream",
     "text": [
      "           time        x1        x2        x3        x4        x5        x6  \\\n",
      "809   -1.725737 -1.168794 -1.870937  0.907784  1.863923 -0.390178 -0.309426   \n",
      "814   -1.724913 -1.374962 -1.779728  1.011526  1.863924 -0.243974 -0.359123   \n",
      "916   -1.707940 -1.451187 -0.548294  1.431607  2.212919 -0.705477  0.274697   \n",
      "920   -1.707281 -1.643078 -0.705038  1.504252  2.338666 -0.830227  0.494798   \n",
      "924   -1.706622 -1.544513 -0.647594  1.509732 -3.124837 -0.866287  0.705307   \n",
      "...         ...       ...       ...       ...       ...       ...       ...   \n",
      "18393  1.450140 -1.764491 -0.352113  0.181496  1.940117 -0.254152  0.534199   \n",
      "18394  1.450305 -1.697216 -0.407866  0.220562  1.917204 -0.210721  0.516184   \n",
      "18395  1.450470 -1.662146 -0.474388  0.163446  1.936543 -0.167288  0.498170   \n",
      "18396  1.450634 -1.654695 -0.485565  0.176682  1.944072 -0.123834  0.480155   \n",
      "18397  1.450799 -1.691170 -0.426182  0.228476  1.951601 -0.080401  0.488208   \n",
      "\n",
      "             x7        x8        x9  ...       x52       x54       x55  \\\n",
      "809    1.039963 -0.448667  0.289641  ... -0.025388  0.934380 -1.204386   \n",
      "814    1.010765 -0.568382 -0.503378  ... -0.053212  0.927444 -1.332812   \n",
      "916    1.010765 -0.203533 -0.503378  ... -0.380619  1.017246 -1.448065   \n",
      "920    0.873742 -0.203533 -0.503378  ... -0.380619  1.016931 -1.315163   \n",
      "924    0.192773 -0.385957  2.068322  ... -0.380619  1.016615 -1.472692   \n",
      "...         ...       ...       ...  ...       ...       ...       ...   \n",
      "18393 -1.845997  0.879966 -1.078732  ...  0.009151  0.988580 -0.519524   \n",
      "18394 -1.845997  0.879966 -1.078732  ...  0.009151  0.989407 -0.741318   \n",
      "18395 -1.845997  0.697541 -1.078732  ...  0.009151  0.990235 -0.662020   \n",
      "18396 -1.845997  0.697541 -1.078732  ...  0.009151  0.991063 -0.684220   \n",
      "18397 -1.845997  0.697541 -0.791055  ...  0.009151  0.991891 -0.709999   \n",
      "\n",
      "            x56       x57       x58       x59       x60  y.1  y  \n",
      "809   -1.066160 -0.325362  0.468370  3.691693  1.470248  NaN  0  \n",
      "814   -1.125553  0.572012  0.343216  3.702425  1.463443  NaN  0  \n",
      "916   -0.840594 -0.182898  0.256252  3.639152  1.322290  NaN  0  \n",
      "920   -0.902559 -0.040462  0.153598  3.513864  1.316652  NaN  0  \n",
      "924   -0.771615 -0.294026  0.128434  3.166095  1.311208  NaN  0  \n",
      "...         ...       ...       ...       ...       ...  ... ..  \n",
      "18393 -0.603254 -0.040462 -0.145853  0.308935 -2.256884  NaN  0  \n",
      "18394 -0.625896 -0.066356 -0.116249 -1.174527 -2.255523  NaN  0  \n",
      "18395 -0.625896 -0.296875  0.083805 -0.256710 -2.254162  NaN  0  \n",
      "18396 -0.625896 -0.040462  0.051610  1.328785 -2.252802  NaN  0  \n",
      "18397 -0.625896  0.019361  0.019415 -0.672764 -2.251441  NaN  0  \n",
      "\n",
      "[2347 rows x 62 columns]\n"
     ]
    }
   ],
   "source": [
    "print(cleaned_data)"
   ]
  },
  {
   "cell_type": "markdown",
   "id": "2b38a3ba",
   "metadata": {},
   "source": [
    "## Feature Engineering"
   ]
  },
  {
   "cell_type": "code",
   "execution_count": 44,
   "id": "6f37bc4c",
   "metadata": {},
   "outputs": [],
   "source": [
    "data=pd.read_csv('Anomadata.csv')"
   ]
  },
  {
   "cell_type": "code",
   "execution_count": 45,
   "id": "03d706bd",
   "metadata": {},
   "outputs": [
    {
     "data": {
      "image/png": "[encoded data removed]",
      "text/plain": [
       "<Figure size 640x480 with 1 Axes>"
      ]
     },
     "metadata": {},
     "output_type": "display_data"
    }
   ],
   "source": [
    "# Creating new features\n",
    "# Aggregating features\n",
    "\n",
    "data['sum_x'] = data.iloc[:, 2:53].sum(axis=1)    #sum of cloumns from x1 to x52 \n",
    "data['sum_x'].head()\n",
    "\n",
    "plt.hist(data['sum_x'], bins=20)  \n",
    "plt.xlabel('Sum of x1 to x52')\n",
    "plt.ylabel('Frequency')\n",
    "plt.title('Distribution of Sum of x1 to x52')\n",
    "plt.show()"
   ]
  },
  {
   "cell_type": "code",
   "execution_count": 46,
   "id": "8fdc4fa7",
   "metadata": {},
   "outputs": [
    {
     "data": {
      "text/plain": [
       "0    1246.033012\n",
       "1    1270.858793\n",
       "2    1287.629102\n",
       "3    1286.217478\n",
       "4    1280.483629\n",
       "Name: sum_x, dtype: float64"
      ]
     },
     "execution_count": 46,
     "metadata": {},
     "output_type": "execute_result"
    }
   ],
   "source": [
    "#Sum of first 5 values\n",
    "data['sum_x'].head()"
   ]
  },
  {
   "cell_type": "code",
   "execution_count": 47,
   "id": "730a9691",
   "metadata": {},
   "outputs": [
    {
     "name": "stdout",
     "output_type": "stream",
     "text": [
      "Row with the highest sum value:\n"
     ]
    },
    {
     "data": {
      "text/plain": [
       "time     5 13 99 6:34\n",
       "sum_x     4386.489221\n",
       "Name: 8136, dtype: object"
      ]
     },
     "execution_count": 47,
     "metadata": {},
     "output_type": "execute_result"
    }
   ],
   "source": [
    "# Find the row with the highest sum value\n",
    "highest_sum_row = data.loc[data['sum_x'].idxmax()]\n",
    "\n",
    "# Find the index of the row with the highest sum value\n",
    "highest_sum_index = data['sum_x'].idxmax()\n",
    "\n",
    "# Extract the row with the highest sum value\n",
    "highest_sum_row = data.loc[highest_sum_index, ['time', 'sum_x']]\n",
    "print(\"Row with the highest sum value:\")\n",
    "highest_sum_row"
   ]
  },
  {
   "cell_type": "code",
   "execution_count": 48,
   "id": "15d9b0e3",
   "metadata": {},
   "outputs": [
    {
     "data": {
      "text/plain": [
       "0    24.432020\n",
       "1    24.918800\n",
       "2    25.247629\n",
       "3    25.219951\n",
       "4    25.107522\n",
       "Name: mean_x, dtype: float64"
      ]
     },
     "execution_count": 48,
     "metadata": {},
     "output_type": "execute_result"
    }
   ],
   "source": [
    "# Mean of x1 to x52\n",
    "data['mean_x'] = data.iloc[:, 2:53].mean(axis=1)  \n",
    "data['mean_x'].head()"
   ]
  },
  {
   "cell_type": "code",
   "execution_count": 52,
   "id": "39b0ba57",
   "metadata": {},
   "outputs": [
    {
     "data": {
      "image/png": "[encoded data removed]",
      "text/plain": [
       "<Figure size 1000x800 with 1 Axes>"
      ]
     },
     "metadata": {},
     "output_type": "display_data"
    }
   ],
   "source": [
    "#ploting the [mean_x]\n",
    "\n",
    "plt.figure(figsize=(10, 8))\n",
    "plt.bar(data.index, data['mean_x'], color='grey')\n",
    "plt.title('Mean of x1 to x52')\n",
    "plt.xlabel('Index')\n",
    "plt.ylabel('Mean Value')\n",
    "plt.grid(axis='y')\n",
    "plt.show()"
   ]
  },
  {
   "cell_type": "code",
   "execution_count": 53,
   "id": "074efe6c",
   "metadata": {},
   "outputs": [
    {
     "data": {
      "image/png": "[encoded data removed]",
      "text/plain": [
       "<Figure size 1000x600 with 1 Axes>"
      ]
     },
     "metadata": {},
     "output_type": "display_data"
    }
   ],
   "source": [
    "#ploting the first 5 [mean_x]\n",
    "data_subset = data.head(5)\n",
    "\n",
    "# Create a bar chart for mean_x data of the first 5 rows\n",
    "plt.figure(figsize=(10, 6))  \n",
    "bars = plt.bar(data_subset.index, data_subset['mean_x'], color='grey')\n",
    "\n",
    "# Add value annotations on top of each bar\n",
    "for bar in bars:\n",
    "    height = bar.get_height()\n",
    "    plt.text(bar.get_x() + bar.get_width() / 2, height, round(height, 2), ha='center', va='bottom')\n",
    "\n",
    "plt.title('Mean of x1 to x52 (First 5 Rows)')\n",
    "plt.xlabel('Index')\n",
    "plt.ylabel('Mean Value')\n",
    "plt.grid(axis='y')\n",
    "plt.xticks(data_subset.index)\n",
    "plt.show()"
   ]
  },
  {
   "cell_type": "code",
   "execution_count": 54,
   "id": "ccf2b6eb",
   "metadata": {},
   "outputs": [
    {
     "data": {
      "text/plain": [
       "0    1351.63286\n",
       "1    1370.37895\n",
       "2    1368.12309\n",
       "3    1365.69145\n",
       "4    1363.25786\n",
       "Name: max_x, dtype: float64"
      ]
     },
     "execution_count": 54,
     "metadata": {},
     "output_type": "execute_result"
    }
   ],
   "source": [
    "# Max value of x1 to x52\n",
    "data['max_x'] = data.iloc[:, 2:53].max(axis=1)\n",
    "data['max_x'].head()"
   ]
  },
  {
   "cell_type": "code",
   "execution_count": 55,
   "id": "362f96c2",
   "metadata": {},
   "outputs": [
    {
     "data": {
      "text/plain": [
       "0    0.141877\n",
       "1    0.226310\n",
       "2    0.132386\n",
       "3    0.090957\n",
       "4    0.070532\n",
       "Name: x1_squared, dtype: float64"
      ]
     },
     "execution_count": 55,
     "metadata": {},
     "output_type": "execute_result"
    }
   ],
   "source": [
    "#Feature transformation\n",
    " \n",
    "data['x1_squared'] = data['x1'] ** 2\n",
    "data['x1_squared'].head()"
   ]
  },
  {
   "cell_type": "code",
   "execution_count": 59,
   "id": "82b944c3",
   "metadata": {},
   "outputs": [],
   "source": [
    "#Date features \n",
    "# converting date and time format in a proper date and time format\n",
    "\n",
    "data['time'] = pd.to_datetime(data['time'])\n",
    "data['time'] = pd.to_datetime(data['time'], errors='coerce')\n",
    "\n",
    "data['hour'] = data['time'].dt.hour\n",
    "data['date'] = data['time'].dt.date"
   ]
  },
  {
   "cell_type": "code",
   "execution_count": 64,
   "id": "d2ef0c3a",
   "metadata": {},
   "outputs": [
    {
     "name": "stdout",
     "output_type": "stream",
     "text": [
      "                     time  hour        date\n",
      "0     1999-05-01 00:00:00     0  1999-05-01\n",
      "1     1999-05-01 00:02:00     0  1999-05-01\n",
      "2     1999-05-01 00:04:00     0  1999-05-01\n",
      "3     1999-05-01 00:06:00     0  1999-05-01\n",
      "4     1999-05-01 00:08:00     0  1999-05-01\n",
      "...                   ...   ...         ...\n",
      "18393 1999-05-28 23:58:00    23  1999-05-28\n",
      "18394 1999-05-29 00:00:00     0  1999-05-29\n",
      "18395 1999-05-29 00:02:00     0  1999-05-29\n",
      "18396 1999-05-29 00:04:00     0  1999-05-29\n",
      "18397 1999-05-29 00:06:00     0  1999-05-29\n",
      "\n",
      "[18398 rows x 3 columns]\n"
     ]
    }
   ],
   "source": [
    "print(data[['time', 'hour', 'date']])\n"
   ]
  },
  {
   "cell_type": "code",
   "execution_count": 97,
   "id": "ab18499a",
   "metadata": {},
   "outputs": [],
   "source": [
    "\n",
    "# Save the modified dataset\n",
    "data.to_csv('modified_anomadata.csv', index=False)"
   ]
  },
  {
   "cell_type": "code",
   "execution_count": 65,
   "id": "bc3dd426",
   "metadata": {},
   "outputs": [],
   "source": [
    "from sklearn.model_selection import train_test_split\n",
    "from sklearn.linear_model import LogisticRegression\n",
    "from sklearn.ensemble import RandomForestClassifier\n",
    "from sklearn.metrics import accuracy_score, precision_score, recall_score, f1_score, roc_auc_score"
   ]
  },
  {
   "cell_type": "code",
   "execution_count": 66,
   "id": "843dce8f",
   "metadata": {},
   "outputs": [],
   "source": [
    "data=pd.read_csv('Anomadata.csv')"
   ]
  },
  {
   "cell_type": "code",
   "execution_count": 67,
   "id": "622c4466",
   "metadata": {},
   "outputs": [],
   "source": [
    "# Split the data into features (X) and target variable (y)\n",
    "X = data.drop(['time', 'y'], axis=1)  # Let 'time' is not a feature for prediction\n",
    "y = data['y']"
   ]
  },
  {
   "cell_type": "code",
   "execution_count": 68,
   "id": "aa096277",
   "metadata": {},
   "outputs": [],
   "source": [
    "# Split the data into train and test sets\n",
    "X_train, X_test, y_train, y_test = train_test_split(X, y, test_size=0.2, random_state=42)"
   ]
  },
  {
   "cell_type": "code",
   "execution_count": 69,
   "id": "1444a6c5",
   "metadata": {},
   "outputs": [],
   "source": [
    "## Standardize the features using StandardScaler\n",
    "\n",
    "from sklearn.preprocessing import StandardScaler\n",
    "\n",
    "scaler = StandardScaler()\n",
    "X_train_scaled = scaler.fit_transform(X_train)\n",
    "X_test_scaled = scaler.transform(X_test)"
   ]
  },
  {
   "cell_type": "code",
   "execution_count": 70,
   "id": "a06946d8",
   "metadata": {},
   "outputs": [
    {
     "data": {
      "text/html": [
       "<style>#sk-container-id-1 {color: black;}#sk-container-id-1 pre{padding: 0;}#sk-container-id-1 div.sk-toggleable {background-color: white;}#sk-container-id-1 label.sk-toggleable__label {cursor: pointer;display: block;width: 100%;margin-bottom: 0;padding: 0.3em;box-sizing: border-box;text-align: center;}#sk-container-id-1 label.sk-toggleable__label-arrow:before {content: \"▸\";float: left;margin-right: 0.25em;color: #696969;}#sk-container-id-1 label.sk-toggleable__label-arrow:hover:before {color: black;}#sk-container-id-1 div.sk-estimator:hover label.sk-toggleable__label-arrow:before {color: black;}#sk-container-id-1 div.sk-toggleable__content {max-height: 0;max-width: 0;overflow: hidden;text-align: left;background-color: #f0f8ff;}#sk-container-id-1 div.sk-toggleable__content pre {margin: 0.2em;color: black;border-radius: 0.25em;background-color: #f0f8ff;}#sk-container-id-1 input.sk-toggleable__control:checked~div.sk-toggleable__content {max-height: 200px;max-width: 100%;overflow: auto;}#sk-container-id-1 input.sk-toggleable__control:checked~label.sk-toggleable__label-arrow:before {content: \"▾\";}#sk-container-id-1 div.sk-estimator input.sk-toggleable__control:checked~label.sk-toggleable__label {background-color: #d4ebff;}#sk-container-id-1 div.sk-label input.sk-toggleable__control:checked~label.sk-toggleable__label {background-color: #d4ebff;}#sk-container-id-1 input.sk-hidden--visually {border: 0;clip: rect(1px 1px 1px 1px);clip: rect(1px, 1px, 1px, 1px);height: 1px;margin: -1px;overflow: hidden;padding: 0;position: absolute;width: 1px;}#sk-container-id-1 div.sk-estimator {font-family: monospace;background-color: #f0f8ff;border: 1px dotted black;border-radius: 0.25em;box-sizing: border-box;margin-bottom: 0.5em;}#sk-container-id-1 div.sk-estimator:hover {background-color: #d4ebff;}#sk-container-id-1 div.sk-parallel-item::after {content: \"\";width: 100%;border-bottom: 1px solid gray;flex-grow: 1;}#sk-container-id-1 div.sk-label:hover label.sk-toggleable__label {background-color: #d4ebff;}#sk-container-id-1 div.sk-serial::before {content: \"\";position: absolute;border-left: 1px solid gray;box-sizing: border-box;top: 0;bottom: 0;left: 50%;z-index: 0;}#sk-container-id-1 div.sk-serial {display: flex;flex-direction: column;align-items: center;background-color: white;padding-right: 0.2em;padding-left: 0.2em;position: relative;}#sk-container-id-1 div.sk-item {position: relative;z-index: 1;}#sk-container-id-1 div.sk-parallel {display: flex;align-items: stretch;justify-content: center;background-color: white;position: relative;}#sk-container-id-1 div.sk-item::before, #sk-container-id-1 div.sk-parallel-item::before {content: \"\";position: absolute;border-left: 1px solid gray;box-sizing: border-box;top: 0;bottom: 0;left: 50%;z-index: -1;}#sk-container-id-1 div.sk-parallel-item {display: flex;flex-direction: column;z-index: 1;position: relative;background-color: white;}#sk-container-id-1 div.sk-parallel-item:first-child::after {align-self: flex-end;width: 50%;}#sk-container-id-1 div.sk-parallel-item:last-child::after {align-self: flex-start;width: 50%;}#sk-container-id-1 div.sk-parallel-item:only-child::after {width: 0;}#sk-container-id-1 div.sk-dashed-wrapped {border: 1px dashed gray;margin: 0 0.4em 0.5em 0.4em;box-sizing: border-box;padding-bottom: 0.4em;background-color: white;}#sk-container-id-1 div.sk-label label {font-family: monospace;font-weight: bold;display: inline-block;line-height: 1.2em;}#sk-container-id-1 div.sk-label-container {text-align: center;}#sk-container-id-1 div.sk-container {/* jupyter's `normalize.less` sets `[hidden] { display: none; }` but bootstrap.min.css set `[hidden] { display: none !important; }` so we also need the `!important` here to be able to override the default hidden behavior on the sphinx rendered scikit-learn.org. See: https://github.com/scikit-learn/scikit-learn/issues/21755 */display: inline-block !important;position: relative;}#sk-container-id-1 div.sk-text-repr-fallback {display: none;}</style><div id=\"sk-container-id-1\" class=\"sk-top-container\"><div class=\"sk-text-repr-fallback\"><pre>LogisticRegression(max_iter=1000)</pre><b>In a Jupyter environment, please rerun this cell to show the HTML representation or trust the notebook. <br />On GitHub, the HTML representation is unable to render, please try loading this page with nbviewer.org.</b></div><div class=\"sk-container\" hidden><div class=\"sk-item\"><div class=\"sk-estimator sk-toggleable\"><input class=\"sk-toggleable__control sk-hidden--visually\" id=\"sk-estimator-id-1\" type=\"checkbox\" checked><label for=\"sk-estimator-id-1\" class=\"sk-toggleable__label sk-toggleable__label-arrow\">LogisticRegression</label><div class=\"sk-toggleable__content\"><pre>LogisticRegression(max_iter=1000)</pre></div></div></div></div></div>"
      ],
      "text/plain": [
       "LogisticRegression(max_iter=1000)"
      ]
     },
     "execution_count": 70,
     "metadata": {},
     "output_type": "execute_result"
    }
   ],
   "source": [
    "# Define and train the logistic regression model with maximum of 1000 iterations.\n",
    "logistic_regression = LogisticRegression(max_iter=1000)\n",
    "logistic_regression.fit(X_train_scaled, y_train)"
   ]
  },
  {
   "cell_type": "code",
   "execution_count": 71,
   "id": "bf27be0e",
   "metadata": {},
   "outputs": [
    {
     "data": {
      "text/plain": [
       "array([0, 0, 0, ..., 0, 0, 0], dtype=int64)"
      ]
     },
     "execution_count": 71,
     "metadata": {},
     "output_type": "execute_result"
    }
   ],
   "source": [
    "#Predicting on the test set and evaluate the model using various evaluation metrics including accuracy, precision, recall, F1 score, and ROC AUC score.\n",
    "\n",
    "y_pred = logistic_regression.predict(X_test_scaled)\n",
    "y_pred"
   ]
  },
  {
   "cell_type": "code",
   "execution_count": 72,
   "id": "60f48810",
   "metadata": {},
   "outputs": [],
   "source": [
    "# Evaluating the model\n",
    "accuracy = accuracy_score(y_test, y_pred)\n",
    "precision = precision_score(y_test, y_pred)\n",
    "recall = recall_score(y_test, y_pred)\n",
    "f1 = f1_score(y_test, y_pred)\n",
    "roc_auc = roc_auc_score(y_test, y_pred)"
   ]
  },
  {
   "cell_type": "code",
   "execution_count": 73,
   "id": "184ee10c",
   "metadata": {},
   "outputs": [
    {
     "name": "stdout",
     "output_type": "stream",
     "text": [
      "Model Evaluation Metrics:\n",
      "Accuracy: 0.9959\n",
      "Precision: 0.7333\n",
      "Recall: 0.5000\n",
      "F1 Score: 0.5946\n",
      "ROC AUC Score: 0.7495\n"
     ]
    }
   ],
   "source": [
    "print(\"Model Evaluation Metrics:\")\n",
    "print(f\"Accuracy: {accuracy:.4f}\")\n",
    "print(f\"Precision: {precision:.4f}\")\n",
    "print(f\"Recall: {recall:.4f}\")\n",
    "print(f\"F1 Score: {f1:.4f}\")\n",
    "print(f\"ROC AUC Score: {roc_auc:.4f}\")"
   ]
  },
  {
   "cell_type": "code",
   "execution_count": 74,
   "id": "03909361",
   "metadata": {},
   "outputs": [],
   "source": [
    "# Predicting on the validation set and evaluate the model using various evaluation metrics.\n",
    "y_test_pred = logistic_regression.predict(X_test_scaled)"
   ]
  },
  {
   "cell_type": "code",
   "execution_count": 75,
   "id": "2b208749",
   "metadata": {},
   "outputs": [],
   "source": [
    "#Predicting on the test set and evaluate the model using the same evaluation metrics\n",
    "\n",
    "accuracy_test = accuracy_score(y_test, y_test_pred)\n",
    "precision_test = precision_score(y_test, y_test_pred)\n",
    "recall_test = recall_score(y_test, y_test_pred)\n",
    "f1_test = f1_score(y_test, y_test_pred)\n",
    "roc_auc_test = roc_auc_score(y_test, y_test_pred)"
   ]
  },
  {
   "cell_type": "code",
   "execution_count": 76,
   "id": "5491aca2",
   "metadata": {},
   "outputs": [
    {
     "name": "stdout",
     "output_type": "stream",
     "text": [
      "\n",
      "Test Metrics:\n",
      "Accuracy: 0.9959\n",
      "Precision: 0.7333\n",
      "Recall: 0.5000\n",
      "F1 Score: 0.5946\n",
      "ROC AUC Score: 0.7495\n"
     ]
    }
   ],
   "source": [
    "#printing out the evaluation metrics for both the validation and test sets to assess the model's performance on unseen data. \n",
    "\n",
    "print(\"\\nTest Metrics:\")\n",
    "print(f\"Accuracy: {accuracy_test:.4f}\")\n",
    "print(f\"Precision: {precision_test:.4f}\")\n",
    "print(f\"Recall: {recall_test:.4f}\")\n",
    "print(f\"F1 Score: {f1_test:.4f}\")\n",
    "print(f\"ROC AUC Score: {roc_auc_test:.4f}\")"
   ]
  },
  {
   "cell_type": "code",
   "execution_count": 77,
   "id": "7063584f",
   "metadata": {},
   "outputs": [],
   "source": [
    "from flask import Flask, request, jsonify\n",
    "from sklearn.linear_model import LogisticRegression\n",
    "from sklearn.preprocessing import StandardScaler\n",
    "import numpy as np\n",
    "import pickle"
   ]
  },
  {
   "cell_type": "code",
   "execution_count": 78,
   "id": "dc4ba3ac",
   "metadata": {},
   "outputs": [],
   "source": [
    "data=pd.read_csv('Anomadata.csv')"
   ]
  },
  {
   "cell_type": "code",
   "execution_count": 79,
   "id": "39bb8b85",
   "metadata": {},
   "outputs": [],
   "source": [
    "# Split the data into features (X) and target variable (y)\n",
    "X = data.drop(['time', 'y'], axis=1)  # Assuming 'time' is not a feature for prediction\n",
    "y = data['y']"
   ]
  },
  {
   "cell_type": "code",
   "execution_count": 80,
   "id": "d7878893",
   "metadata": {},
   "outputs": [
    {
     "data": {
      "text/html": [
       "<style>#sk-container-id-2 {color: black;}#sk-container-id-2 pre{padding: 0;}#sk-container-id-2 div.sk-toggleable {background-color: white;}#sk-container-id-2 label.sk-toggleable__label {cursor: pointer;display: block;width: 100%;margin-bottom: 0;padding: 0.3em;box-sizing: border-box;text-align: center;}#sk-container-id-2 label.sk-toggleable__label-arrow:before {content: \"▸\";float: left;margin-right: 0.25em;color: #696969;}#sk-container-id-2 label.sk-toggleable__label-arrow:hover:before {color: black;}#sk-container-id-2 div.sk-estimator:hover label.sk-toggleable__label-arrow:before {color: black;}#sk-container-id-2 div.sk-toggleable__content {max-height: 0;max-width: 0;overflow: hidden;text-align: left;background-color: #f0f8ff;}#sk-container-id-2 div.sk-toggleable__content pre {margin: 0.2em;color: black;border-radius: 0.25em;background-color: #f0f8ff;}#sk-container-id-2 input.sk-toggleable__control:checked~div.sk-toggleable__content {max-height: 200px;max-width: 100%;overflow: auto;}#sk-container-id-2 input.sk-toggleable__control:checked~label.sk-toggleable__label-arrow:before {content: \"▾\";}#sk-container-id-2 div.sk-estimator input.sk-toggleable__control:checked~label.sk-toggleable__label {background-color: #d4ebff;}#sk-container-id-2 div.sk-label input.sk-toggleable__control:checked~label.sk-toggleable__label {background-color: #d4ebff;}#sk-container-id-2 input.sk-hidden--visually {border: 0;clip: rect(1px 1px 1px 1px);clip: rect(1px, 1px, 1px, 1px);height: 1px;margin: -1px;overflow: hidden;padding: 0;position: absolute;width: 1px;}#sk-container-id-2 div.sk-estimator {font-family: monospace;background-color: #f0f8ff;border: 1px dotted black;border-radius: 0.25em;box-sizing: border-box;margin-bottom: 0.5em;}#sk-container-id-2 div.sk-estimator:hover {background-color: #d4ebff;}#sk-container-id-2 div.sk-parallel-item::after {content: \"\";width: 100%;border-bottom: 1px solid gray;flex-grow: 1;}#sk-container-id-2 div.sk-label:hover label.sk-toggleable__label {background-color: #d4ebff;}#sk-container-id-2 div.sk-serial::before {content: \"\";position: absolute;border-left: 1px solid gray;box-sizing: border-box;top: 0;bottom: 0;left: 50%;z-index: 0;}#sk-container-id-2 div.sk-serial {display: flex;flex-direction: column;align-items: center;background-color: white;padding-right: 0.2em;padding-left: 0.2em;position: relative;}#sk-container-id-2 div.sk-item {position: relative;z-index: 1;}#sk-container-id-2 div.sk-parallel {display: flex;align-items: stretch;justify-content: center;background-color: white;position: relative;}#sk-container-id-2 div.sk-item::before, #sk-container-id-2 div.sk-parallel-item::before {content: \"\";position: absolute;border-left: 1px solid gray;box-sizing: border-box;top: 0;bottom: 0;left: 50%;z-index: -1;}#sk-container-id-2 div.sk-parallel-item {display: flex;flex-direction: column;z-index: 1;position: relative;background-color: white;}#sk-container-id-2 div.sk-parallel-item:first-child::after {align-self: flex-end;width: 50%;}#sk-container-id-2 div.sk-parallel-item:last-child::after {align-self: flex-start;width: 50%;}#sk-container-id-2 div.sk-parallel-item:only-child::after {width: 0;}#sk-container-id-2 div.sk-dashed-wrapped {border: 1px dashed gray;margin: 0 0.4em 0.5em 0.4em;box-sizing: border-box;padding-bottom: 0.4em;background-color: white;}#sk-container-id-2 div.sk-label label {font-family: monospace;font-weight: bold;display: inline-block;line-height: 1.2em;}#sk-container-id-2 div.sk-label-container {text-align: center;}#sk-container-id-2 div.sk-container {/* jupyter's `normalize.less` sets `[hidden] { display: none; }` but bootstrap.min.css set `[hidden] { display: none !important; }` so we also need the `!important` here to be able to override the default hidden behavior on the sphinx rendered scikit-learn.org. See: https://github.com/scikit-learn/scikit-learn/issues/21755 */display: inline-block !important;position: relative;}#sk-container-id-2 div.sk-text-repr-fallback {display: none;}</style><div id=\"sk-container-id-2\" class=\"sk-top-container\"><div class=\"sk-text-repr-fallback\"><pre>LogisticRegression(max_iter=1000)</pre><b>In a Jupyter environment, please rerun this cell to show the HTML representation or trust the notebook. <br />On GitHub, the HTML representation is unable to render, please try loading this page with nbviewer.org.</b></div><div class=\"sk-container\" hidden><div class=\"sk-item\"><div class=\"sk-estimator sk-toggleable\"><input class=\"sk-toggleable__control sk-hidden--visually\" id=\"sk-estimator-id-2\" type=\"checkbox\" checked><label for=\"sk-estimator-id-2\" class=\"sk-toggleable__label sk-toggleable__label-arrow\">LogisticRegression</label><div class=\"sk-toggleable__content\"><pre>LogisticRegression(max_iter=1000)</pre></div></div></div></div></div>"
      ],
      "text/plain": [
       "LogisticRegression(max_iter=1000)"
      ]
     },
     "execution_count": 80,
     "metadata": {},
     "output_type": "execute_result"
    }
   ],
   "source": [
    "# Train a logistic regression model\n",
    "scaler = StandardScaler()\n",
    "X_scaled = scaler.fit_transform(X)\n",
    "logistic_regression = LogisticRegression(max_iter=1000)\n",
    "logistic_regression.fit(X_scaled, y)"
   ]
  },
  {
   "cell_type": "code",
   "execution_count": 81,
   "id": "0887907a",
   "metadata": {},
   "outputs": [],
   "source": [
    "# Serialize the trained model\n",
    "with open('logistic_regression_model.pkl', 'wb') as f:\n",
    "    pickle.dump(logistic_regression, f)"
   ]
  },
  {
   "cell_type": "code",
   "execution_count": 82,
   "id": "4b863281",
   "metadata": {},
   "outputs": [],
   "source": [
    "# Initialize Flask application\n",
    "app = Flask(__name__)"
   ]
  },
  {
   "cell_type": "code",
   "execution_count": 83,
   "id": "a44b3fa0",
   "metadata": {},
   "outputs": [],
   "source": [
    "# Load the trained model\n",
    "with open('logistic_regression_model.pkl', 'rb') as f:\n",
    "    model = pickle.load(f)"
   ]
  },
  {
   "cell_type": "code",
   "execution_count": 84,
   "id": "d804ca73",
   "metadata": {},
   "outputs": [],
   "source": [
    "from flask import send_file\n",
    "\n",
    "@app.route('/predict_new_one', methods=['POST'])\n",
    "def predict_new_one():\n",
    "    # Get input data from request\n",
    "    data = request.json\n",
    "    \n",
    "    # Preprocess input data \n",
    "    # For example, convert input data to numpy array\n",
    "    features = np.array(data['features'])\n",
    "    \n",
    "    # Standardize the features\n",
    "    features_scaled = scaler.transform(features)\n",
    "    \n",
    "    # Make predictions using the loaded model\n",
    "    predictions = model.predict(features_scaled)\n",
    "    \n",
    "    # Format predictions as JSON response\n",
    "    response = {'predictions': predictions.tolist()}\n",
    "    \n",
    "    # Create a temporary file to store the JSON data\n",
    "    temp_file = tempfile.NamedTemporaryFile(delete=False)\n",
    "    with open(temp_file.name, 'w') as file:\n",
    "        json.dump(response, file)\n",
    "    \n",
    "    # Close the temporary file\n",
    "    temp_file.close()\n",
    "    \n",
    "    # Return the file for download\n",
    "    return send_file(temp_file.name, as_attachment=True, attachment_filename='predictions.json')"
   ]
  },
  {
   "cell_type": "code",
   "execution_count": null,
   "id": "cd1d82c6",
   "metadata": {},
   "outputs": [],
   "source": []
  }
 ],
 "metadata": {
  "kernelspec": {
   "display_name": "Python 3 (ipykernel)",
   "language": "python",
   "name": "python3"
  },
  "language_info": {
   "codemirror_mode": {
    "name": "ipython",
    "version": 3
   },
   "file_extension": ".py",
   "mimetype": "text/x-python",
   "name": "python",
   "nbconvert_exporter": "python",
   "pygments_lexer": "ipython3",
   "version": "3.11.5"
  }
 },
 "nbformat": 4,
 "nbformat_minor": 5
}
